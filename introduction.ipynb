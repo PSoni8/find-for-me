RECOMMENDATION SYSTEM:A recommendation system is any system that automatically suggests content, products or serivces which should interest customers based on their preferences.
PURPOSE:
The purpose of a recommendation system basically is to search for content that would be interesting to an individual. Moreover, it involves a number of factors to create personalised lists of useful and interesting content specific to each user/individual. Recommendation systems are Artificial Intelligence based algorithms that skim through all possible options and create a customized list of items that are interesting and relevant to an individual. These results are based on their profile, search/browsing history, what other people with similar traits/demographics are watching, and how likely are you to watch those movies. This is achieved through predictive modeling and heuristics with the data available.
TYPES OF RECOMMENDATION SYSTEM:
1.Content-based recommendation engine
2.Collobrative-filtering (CF) based recommendation engine 
3.Popularity based recommendation systems
4.Classification model based
5.Hybrid Approaches
6.Association rule mining
7.Deep Learning based recommendation systems
DESCRIPTION:
1.Content-based recommendation engine:
i.Content based system suggests you what you like based on what you liked in past.
ii.Recommendation of items are based on : user's previous purcheses, reviews and likes
iii.Combine: Item description and User profile description
iv.Generate similarity score
v.Recommend the items based on similarity score
Tasks:
i.Requirements:some information about the available items such as genre,some sort of user profile describing what the user likes
ii.similarit by actors,directors,genre
iii.learn user preferences about suggest same.
2.Collobrative-filtering (CF) based recommendation engine 
Types of CF
i.User-Item Collaborative Filtering: “Users who are similar to you also liked …”
ii.Item-Item Collaborative Filtering: “Users who liked this item also liked …”
